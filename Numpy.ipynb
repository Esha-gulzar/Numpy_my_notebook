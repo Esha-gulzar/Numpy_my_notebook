{
 "cells": [
  {
   "cell_type": "markdown",
   "metadata": {
    "editable": true,
    "id": "VOkN7Q6NnK67",
    "slideshow": {
     "slide_type": ""
    },
    "tags": []
   },
   "source": [
    "# NumPy Array\n"
   ]
  },
  {
   "cell_type": "markdown",
   "metadata": {},
   "source": [
    "Numpy array is much faster than list and take less memoray but cannot store values of diff datatypes"
   ]
  },
  {
   "cell_type": "markdown",
   "metadata": {
    "id": "KvHyWJPcnVhf"
   },
   "source": [
    "# Import Numpy Library to creat array\n",
    "While in list we can directly create and perform operations\n"
   ]
  },
  {
   "cell_type": "code",
   "execution_count": 1,
   "metadata": {
    "id": "b8bqXlGlnk60"
   },
   "outputs": [],
   "source": [
    "import numpy as np #np is standard alias for convinience for using numpy  operations"
   ]
  },
  {
   "cell_type": "markdown",
   "metadata": {
    "id": "Z8qA2cTJoJEN"
   },
   "source": [
    "# Lets create array in numpy"
   ]
  },
  {
   "cell_type": "code",
   "execution_count": 22,
   "metadata": {
    "id": "e2mBIomkoSeR"
   },
   "outputs": [],
   "source": [
    "X=np.array([1,2,3,4,5,6])"
   ]
  },
  {
   "cell_type": "code",
   "execution_count": 23,
   "metadata": {
    "colab": {
     "base_uri": "https://localhost:8080/"
    },
    "id": "0xxT15jyoSnP",
    "outputId": "3e42bf1e-f085-4c2a-ad2b-1d0cb9b63e18"
   },
   "outputs": [
    {
     "name": "stdout",
     "output_type": "stream",
     "text": [
      "[1 2 3 4 5 6]\n"
     ]
    }
   ],
   "source": [
    "print(X)"
   ]
  },
  {
   "cell_type": "markdown",
   "metadata": {
    "id": "j7TAdSkCov7l"
   },
   "source": [
    "# Lets create List and print it as np.array\n"
   ]
  },
  {
   "cell_type": "code",
   "execution_count": null,
   "metadata": {
    "id": "X-8RiSFapBIs"
   },
   "outputs": [],
   "source": [
    "l=[]\n",
    "for i in range(1,5):\n",
    " int_i=int(input(\"Enter an integer\"))\n",
    " l.append(int_i)\n",
    " print(np.array(l))"
   ]
  },
  {
   "cell_type": "markdown",
   "metadata": {
    "id": "l4hz7iaWrzff"
   },
   "source": []
  },
  {
   "cell_type": "markdown",
   "metadata": {
    "id": "rnfQWeBlrprZ"
   },
   "source": []
  },
  {
   "cell_type": "markdown",
   "metadata": {
    "id": "KAjMdpTIrrWy"
   },
   "source": [
    "# 2-dimensional Array"
   ]
  },
  {
   "cell_type": "code",
   "execution_count": null,
   "metadata": {
    "id": "jN903a0oru7U"
   },
   "outputs": [],
   "source": [
    "y=np.array([[1,2,3],[4,5,6],[7,8,9]])\n",
    "print(y)\n",
    "print(y.ndim)"
   ]
  },
  {
   "cell_type": "markdown",
   "metadata": {
    "id": "9DvGtBVHr1Ym"
   },
   "source": [
    "# 3-dimensinal array"
   ]
  },
  {
   "cell_type": "code",
   "execution_count": null,
   "metadata": {
    "id": "3rfrREser5H4"
   },
   "outputs": [],
   "source": [
    "Z=np.array([[[1,2,3],[4,5,6],[7,8,9]],[[9,8,7],[6,5,4],[3,2,1]]])\n",
    "print(Z)\n",
    "print(Z.ndim)\n",
    "A=np.array([[[1,2,3],[4,5,6],[7,8,9]]])\n",
    "print(A)\n",
    "print(A.ndim)"
   ]
  },
  {
   "cell_type": "markdown",
   "metadata": {
    "id": "PvSIYmqxtqZQ"
   },
   "source": [
    "# Arrays elements filled with Zero's"
   ]
  },
  {
   "cell_type": "code",
   "execution_count": null,
   "metadata": {
    "id": "kwKmP_fPty-A"
   },
   "outputs": [],
   "source": [
    "arr_zero=np.zeros(8)\n",
    "print(arr_zero)   #1 dimensional\n",
    "print()\n",
    "arr2_zero=np.zeros((2,4))\n",
    "print(arr2_zero) #2-dimensional\n",
    "print()\n",
    "arr3_zero=np.zeros((2,4,6))\n",
    "print(arr3_zero) #3-dimensional"
   ]
  },
  {
   "cell_type": "markdown",
   "metadata": {
    "id": "iQ68h_gcxItr"
   },
   "source": [
    "# Arrays elements filled with ones"
   ]
  },
  {
   "cell_type": "code",
   "execution_count": null,
   "metadata": {
    "id": "T8Lhs5bSxOkg"
   },
   "outputs": [],
   "source": [
    "arr_one=np.ones(8)\n",
    "print(arr_one)   #1 dimensional\n",
    "print()\n",
    "arr2_one=np.ones((2,4))\n",
    "print(arr2_one) #2-dimensional\n",
    "print()\n",
    "arr3_one=np.ones((2,4,6))\n",
    "print(arr3_one) #3-dimensional"
   ]
  },
  {
   "cell_type": "markdown",
   "metadata": {
    "id": "G5XWmEnwzLzI"
   },
   "source": [
    "# Empty array takes the random updated values in the memoray"
   ]
  },
  {
   "cell_type": "code",
   "execution_count": 6,
   "metadata": {
    "id": "blX7o_YDplId"
   },
   "outputs": [
    {
     "name": "stdout",
     "output_type": "stream",
     "text": [
      "[6.23042070e-307 4.67296746e-307 1.69121096e-306 1.07876653e-311]\n",
      "\n",
      "[6.23042070e-307 4.67296746e-307 1.69121096e-306 1.07876653e-311]\n",
      "\n",
      "[6.23042070e-307 4.67296746e-307 1.69121096e-306 1.07876653e-311]\n",
      "\n"
     ]
    }
   ],
   "source": [
    "arr_emp=np.empty(4)\n",
    "print(arr_emp)\n",
    "print()\n",
    "arr_emp2=np.empty((2,4)) #2d empty array\n",
    "print(arr_emp)\n",
    "print()\n",
    "arr_emp3=np.empty(((2,3,4))) #3d empty\n",
    "print(arr_emp)\n",
    "print()\n"
   ]
  },
  {
   "cell_type": "markdown",
   "metadata": {
    "id": "lQ0f2tc3n4rW"
   },
   "source": [
    "# Full array full((shape range)value stored)"
   ]
  },
  {
   "cell_type": "code",
   "execution_count": 9,
   "metadata": {},
   "outputs": [
    {
     "name": "stdout",
     "output_type": "stream",
     "text": [
      "[[4 4 4]\n",
      " [4 4 4]]\n",
      "\n"
     ]
    }
   ],
   "source": [
    "arr_full=np.full((2,3),4) #2d full\n",
    "print(arr_full)\n",
    "print()\n"
   ]
  },
  {
   "cell_type": "code",
   "execution_count": 11,
   "metadata": {},
   "outputs": [
    {
     "name": "stdout",
     "output_type": "stream",
     "text": [
      "[[1. 0. 0. 0.]\n",
      " [0. 1. 0. 0.]\n",
      " [0. 0. 1. 0.]]\n"
     ]
    }
   ],
   "source": [
    "arr_diag=np.eye(3,4)\n",
    "print(arr_diag)\n",
    "\n"
   ]
  },
  {
   "cell_type": "markdown",
   "metadata": {},
   "source": [
    "# Array with values that are linearly spaced linearly in a specified interval"
   ]
  },
  {
   "cell_type": "code",
   "execution_count": 13,
   "metadata": {},
   "outputs": [
    {
     "name": "stdout",
     "output_type": "stream",
     "text": [
      "[2.         2.33333333 2.66666667 3.        ]\n",
      "\n"
     ]
    }
   ],
   "source": [
    "arr_lsp=np.linspace(2,3,4) #2d full\n",
    "print(arr_lsp)\n",
    "print()\n"
   ]
  },
  {
   "cell_type": "markdown",
   "metadata": {},
   "source": [
    "# Use Random functions to generate random values in array"
   ]
  },
  {
   "cell_type": "markdown",
   "metadata": {},
   "source": [
    "Rand() generate vlues between 0 to 1"
   ]
  },
  {
   "cell_type": "code",
   "execution_count": 17,
   "metadata": {},
   "outputs": [
    {
     "name": "stdout",
     "output_type": "stream",
     "text": [
      "[0.52266263 0.28957818 0.52918934 0.51451872 0.53845373]\n",
      "\n",
      "[[0.5851453  0.37881543 0.66961287 0.41475249]\n",
      " [0.68346521 0.15426514 0.22247325 0.05006365]\n",
      " [0.07994733 0.94099821 0.79154099 0.23073973]\n",
      " [0.38095763 0.3407326  0.18715136 0.78099006]\n",
      " [0.92005009 0.59613222 0.751286   0.99547991]]\n",
      "\n",
      "[[[0.04715526 0.33797806]\n",
      "  [0.9599863  0.70631198]]\n",
      "\n",
      " [[0.39389903 0.49132098]\n",
      "  [0.38745655 0.5168348 ]]\n",
      "\n",
      " [[0.61938114 0.49451488]\n",
      "  [0.95177177 0.13856566]]\n",
      "\n",
      " [[0.88364951 0.75656252]\n",
      "  [0.32839134 0.13448563]]\n",
      "\n",
      " [[0.80732892 0.2709396 ]\n",
      "  [0.22112061 0.73502546]]]\n"
     ]
    }
   ],
   "source": [
    "arr_rd=np.random.rand(5)\n",
    "print(arr_rd)\n",
    "print()\n",
    "arr_rd_2d=np.random.rand(5,4)\n",
    "print(arr_rd_2d)\n",
    "print()\n",
    "arr_rd_3d=np.random.rand(5,2,2)\n",
    "print(arr_rd_3d)"
   ]
  },
  {
   "cell_type": "markdown",
   "metadata": {},
   "source": [
    "Randn() generate numbers closer to 0 could be negative"
   ]
  },
  {
   "cell_type": "code",
   "execution_count": 18,
   "metadata": {},
   "outputs": [
    {
     "name": "stdout",
     "output_type": "stream",
     "text": [
      "[-0.04482198  0.88836079 -0.51068559  0.14691697  0.12914777]\n",
      "\n",
      "[[ 1.10999528 -0.37933556  0.12403662  0.25061095]\n",
      " [ 0.05649989 -1.05504022  0.33192547  0.56513453]\n",
      " [ 0.42423445  0.1913787  -1.4870452   0.33868072]\n",
      " [ 1.14351747  0.76148154 -0.2537176  -1.43299566]\n",
      " [-0.90195746  1.59628975  1.35377683  0.57347659]]\n",
      "\n",
      "[[[-0.66705005  0.03395227]\n",
      "  [ 0.42841836  1.40518373]]\n",
      "\n",
      " [[ 1.36133585  0.39841517]\n",
      "  [ 0.2648323   0.45457003]]\n",
      "\n",
      " [[-1.26406905 -1.21611115]\n",
      "  [ 0.36269313 -0.25615528]]\n",
      "\n",
      " [[-0.21144958 -1.57548011]\n",
      "  [ 0.71616587  0.18205078]]\n",
      "\n",
      " [[-0.23952836  1.30377098]\n",
      "  [ 0.73788523 -0.07112018]]]\n"
     ]
    }
   ],
   "source": [
    "arr_rd=np.random.randn(5)\n",
    "print(arr_rd)\n",
    "print()\n",
    "arr_rd_2d=np.random.randn(5,4)\n",
    "print(arr_rd_2d)\n",
    "print()\n",
    "arr_rd_3d=np.random.randn(5,2,2)\n",
    "print(arr_rd_3d)"
   ]
  },
  {
   "cell_type": "markdown",
   "metadata": {},
   "source": [
    "Ranf() generate random numbers in float [0.0 to 1.0) 1.0 not included only take 1 argument"
   ]
  },
  {
   "cell_type": "code",
   "execution_count": 20,
   "metadata": {},
   "outputs": [
    {
     "name": "stdout",
     "output_type": "stream",
     "text": [
      "[0.51854444 0.44140662 0.076252   0.6766556  0.6364043 ]\n",
      "\n"
     ]
    }
   ],
   "source": [
    "arr_rd=np.random.ranf(5)\n",
    "print(arr_rd)\n",
    "print()\n"
   ]
  },
  {
   "cell_type": "code",
   "execution_count": null,
   "metadata": {},
   "outputs": [],
   "source": [
    "Randint(min,max,total_values) generate random numbers"
   ]
  },
  {
   "cell_type": "code",
   "execution_count": 27,
   "metadata": {},
   "outputs": [
    {
     "name": "stdout",
     "output_type": "stream",
     "text": [
      "[1 0]\n"
     ]
    }
   ],
   "source": [
    "\n",
    "arr_rd=np.random.randint(0,2,2)\n",
    "print(arr_rd)"
   ]
  },
  {
   "cell_type": "markdown",
   "metadata": {},
   "source": [
    "# **Arithematic Operations in Numpy Arrays**"
   ]
  },
  {
   "cell_type": "markdown",
   "metadata": {},
   "source": [
    "add(a,b)"
   ]
  },
  {
   "cell_type": "code",
   "execution_count": 30,
   "metadata": {
    "editable": true,
    "slideshow": {
     "slide_type": ""
    },
    "tags": []
   },
   "outputs": [
    {
     "name": "stdout",
     "output_type": "stream",
     "text": [
      "[ 5  5  5  5 10]\n"
     ]
    }
   ],
   "source": [
    "arr_add=np.array([1,2,3,4,5])\n",
    "arr_add2=np.array([4,3,2,1,5])\n",
    "print(arr_add+arr_add2)"
   ]
  },
  {
   "cell_type": "markdown",
   "metadata": {},
   "source": [
    "subtract(a,b)"
   ]
  },
  {
   "cell_type": "code",
   "execution_count": 36,
   "metadata": {},
   "outputs": [
    {
     "name": "stdout",
     "output_type": "stream",
     "text": [
      "[-3 -1  1  3  0]\n",
      "[-3 -1  1  3  0]\n"
     ]
    }
   ],
   "source": [
    "arr_sub=np.array([1,2,3,4,5])\n",
    "arr_sub2=np.array([4,3,2,1,5])\n",
    "\n",
    "print(arr_sub-arr_sub2)\n",
    "print(np.subtract(arr_sub,arr_sub2))"
   ]
  },
  {
   "cell_type": "markdown",
   "metadata": {},
   "source": [
    "**Divide(a,b)**"
   ]
  },
  {
   "cell_type": "code",
   "execution_count": 39,
   "metadata": {},
   "outputs": [
    {
     "name": "stdout",
     "output_type": "stream",
     "text": [
      "[0.25       0.66666667 1.5        4.         1.        ]\n",
      "[0.25       0.66666667 1.5        4.         1.        ]\n"
     ]
    }
   ],
   "source": [
    "arr_div=np.array([1,2,3,4,5])\n",
    "arr_div2=np.array([4,3,2,1,5])\n",
    "print(arr_div/arr_div2)\n",
    "print(np.divide(arr_div,arr_div2))"
   ]
  },
  {
   "cell_type": "markdown",
   "metadata": {},
   "source": [
    "**Modulus(a,b)**"
   ]
  },
  {
   "cell_type": "code",
   "execution_count": 40,
   "metadata": {},
   "outputs": [
    {
     "name": "stdout",
     "output_type": "stream",
     "text": [
      "[1 2 1 0 0]\n",
      "[1 2 1 0 0]\n"
     ]
    }
   ],
   "source": [
    "arr_mod=np.array([1,2,3,4,5])\n",
    "arr_mod2=np.array([4,3,2,1,5])\n",
    "print(arr_mod%arr_mod2)\n",
    "print(np.mod(arr_mod,arr_mod2))"
   ]
  },
  {
   "cell_type": "markdown",
   "metadata": {},
   "source": [
    "**Reciprocal(1/a)**"
   ]
  },
  {
   "cell_type": "code",
   "execution_count": 41,
   "metadata": {},
   "outputs": [
    {
     "name": "stdout",
     "output_type": "stream",
     "text": [
      "[1.         0.5        0.33333333 0.25       0.2       ]\n",
      "[0 0 0 1 0]\n"
     ]
    }
   ],
   "source": [
    "arr_rec=np.array([1,2,3,4,5])\n",
    "arr_rec2=np.array([4,3,2,1,5])\n",
    "print(1/arr_rec)\n",
    "print(np.reciprocal(arr_rec2))"
   ]
  },
  {
   "cell_type": "markdown",
   "metadata": {},
   "source": [
    "**Same works with 2d array**"
   ]
  },
  {
   "cell_type": "code",
   "execution_count": 43,
   "metadata": {},
   "outputs": [
    {
     "name": "stdout",
     "output_type": "stream",
     "text": [
      "[[0 0 0 0 0]\n",
      " [0 0 0 0 0]]\n"
     ]
    }
   ],
   "source": [
    "arr_mod=np.array([[1,2,3,4,5],[1,2,3,4,5]])\n",
    "arr_mod2=np.array([[1,2,3,4,5],[1,2,3,4,5]])\n",
    "print(np.mod(arr_mod,arr_mod2))\n"
   ]
  },
  {
   "cell_type": "markdown",
   "metadata": {},
   "source": [
    "**FOR 3-D ARRAY**"
   ]
  },
  {
   "cell_type": "code",
   "execution_count": 44,
   "metadata": {},
   "outputs": [
    {
     "name": "stdout",
     "output_type": "stream",
     "text": [
      "[[[0 0 0 0 0]\n",
      "  [0 0 0 0 0]\n",
      "  [0 0 0 0 0]]]\n"
     ]
    }
   ],
   "source": [
    "arr_mod=np.array([[[1,2,3,4,5],[1,2,3,4,5],[2,4,5,6,4]]])\n",
    "arr_mod2=np.array([[[1,2,3,4,5],[1,2,3,4,5],[2,4,5,6,4]]])\n",
    "print(np.mod(arr_mod,arr_mod2))"
   ]
  },
  {
   "cell_type": "markdown",
   "metadata": {},
   "source": [
    "# **Arithmetic functions**"
   ]
  },
  {
   "cell_type": "markdown",
   "metadata": {},
   "source": [
    "**min max according to row  axis=1 evaluate the min/max of each column across each row and column axis=0 whic is also default axis**"
   ]
  },
  {
   "cell_type": "code",
   "execution_count": 57,
   "metadata": {
    "scrolled": true
   },
   "outputs": [
    {
     "name": "stdout",
     "output_type": "stream",
     "text": [
      "[1 2 3 4 5] 0\n",
      "\n",
      "[1 1] 0\n",
      "\n",
      "[5 5] 4\n",
      "\n",
      "[1 2 3 4 5] 4\n"
     ]
    }
   ],
   "source": [
    "arr_mod=np.array([[1,2,3,4,5],[1,2,3,4,5]])\n",
    "arr_mod2=np.array([[1,2,3,4,5],[1,2,3,4,5]])\n",
    "print(np.min(arr_mod,axis=0),np.argmin(arr_mod)) #argmin/argmax to find index\n",
    "print()\n",
    "print(np.min(arr_mod2,axis=1),np.argmin(arr_mod2))\n",
    "print()\n",
    "print(np.max(arr_mod,axis=1),np.argmax(arr_mod))\n",
    "print()\n",
    "print(np.max(arr_mod2,axis=0),np.argmax(arr_mod2))"
   ]
  },
  {
   "cell_type": "markdown",
   "metadata": {},
   "source": [
    "**Sqrt() function**"
   ]
  },
  {
   "cell_type": "code",
   "execution_count": 58,
   "metadata": {},
   "outputs": [
    {
     "name": "stdout",
     "output_type": "stream",
     "text": [
      "[[1.         1.41421356 1.73205081 2.         2.23606798]\n",
      " [1.         1.41421356 1.73205081 2.         2.23606798]]\n",
      "\n",
      "[[1.         1.41421356 1.73205081 2.         2.23606798]\n",
      " [1.         1.41421356 1.73205081 2.         2.23606798]]\n"
     ]
    }
   ],
   "source": [
    "arr_mod=np.array([[1,2,3,4,5],[1,2,3,4,5]])\n",
    "arr_mod2=np.array([[1,2,3,4,5],[1,2,3,4,5]])\n",
    "print(np.sqrt(arr_mod))\n",
    "print()\n",
    "print(np.sqrt(arr_mod2))\n"
   ]
  },
  {
   "cell_type": "markdown",
   "metadata": {},
   "source": [
    "**Cos,Sin**"
   ]
  },
  {
   "cell_type": "code",
   "execution_count": 60,
   "metadata": {},
   "outputs": [
    {
     "name": "stdout",
     "output_type": "stream",
     "text": [
      "[[ 0.54030231 -0.41614684 -0.9899925  -0.65364362  0.28366219]\n",
      " [ 0.54030231 -0.41614684 -0.9899925  -0.65364362  0.28366219]]\n",
      "\n",
      "[[ 0.84147098  0.90929743  0.14112001 -0.7568025  -0.95892427]\n",
      " [ 0.84147098  0.90929743  0.14112001 -0.7568025  -0.95892427]]\n",
      "\n",
      "[ 1  3  6 10 15 16 18 21 25 30]\n"
     ]
    }
   ],
   "source": [
    "arr_mod=np.array([[1,2,3,4,5],[1,2,3,4,5]])\n",
    "arr_mod2=np.array([[1,2,3,4,5],[1,2,3,4,5]])\n",
    "print(np.cos(arr_mod))\n",
    "print()\n",
    "print(np.sin(arr_mod2))\n",
    "print()\n",
    "print(np.cumsum(arr_mod2))"
   ]
  },
  {
   "cell_type": "markdown",
   "metadata": {},
   "source": [
    "# Shape function"
   ]
  },
  {
   "cell_type": "code",
   "execution_count": 8,
   "metadata": {},
   "outputs": [
    {
     "name": "stdout",
     "output_type": "stream",
     "text": [
      "[[1 2]\n",
      " [1 2]]\n",
      "\n",
      "shape of array (2, 2)\n"
     ]
    }
   ],
   "source": [
    "arr_sh=np.array([[1,2],[1,2]])\n",
    "print(arr_sh)\n",
    "print()\n",
    "print(f'shape of array {arr_sh.shape}')"
   ]
  },
  {
   "cell_type": "code",
   "execution_count": 11,
   "metadata": {},
   "outputs": [
    {
     "name": "stdout",
     "output_type": "stream",
     "text": [
      "[[[[1 2 1 2]]]]\n",
      "\n",
      "shape of array (1, 1, 1, 4)\n"
     ]
    }
   ],
   "source": [
    "arr_sh=np.array([1,2,1,2],ndim=4)\n",
    "print(arr_sh)\n",
    "print()\n",
    "print(f'shape of array {arr_sh.shape}')"
   ]
  },
  {
   "cell_type": "markdown",
   "metadata": {},
   "source": [
    "# Reshape function"
   ]
  },
  {
   "cell_type": "code",
   "execution_count": 27,
   "metadata": {},
   "outputs": [
    {
     "name": "stdout",
     "output_type": "stream",
     "text": [
      "1\n",
      "[1 2 1 2 4 6 8 3 5]\n",
      "\n",
      "[[1 2 1]\n",
      " [2 4 6]\n",
      " [8 3 5]]\n",
      "\n",
      "2\n"
     ]
    }
   ],
   "source": [
    "arr_sh1=np.array([1,2,1,2,4,6,8,3,5])\n",
    "print(arr_sh1.ndim)\n",
    "print(arr_sh1)\n",
    "print()\n",
    "X=arr_sh1.reshape(3,3)\n",
    "print(X)\n",
    "print()\n",
    "print(X.ndim)"
   ]
  },
  {
   "cell_type": "code",
   "execution_count": 29,
   "metadata": {},
   "outputs": [
    {
     "name": "stdout",
     "output_type": "stream",
     "text": [
      "1\n",
      "[ 1  2  3  4  5  6  7  8  9 10 11 12]\n",
      "\n",
      "[[[ 1  2]\n",
      "  [ 3  4]\n",
      "  [ 5  6]]\n",
      "\n",
      " [[ 7  8]\n",
      "  [ 9 10]\n",
      "  [11 12]]]\n",
      "\n",
      "3\n",
      "[ 1  2  3  4  5  6  7  8  9 10 11 12]\n",
      "\n",
      "1\n"
     ]
    }
   ],
   "source": [
    "arr_sh3=np.array([1,2,3,4,5,6,7,8,9,10,11,12])\n",
    "print(arr_sh3.ndim)\n",
    "print(arr_sh3)\n",
    "print()\n",
    "X1=arr_sh3.reshape(2,3,2)\n",
    "print(X1)\n",
    "print()\n",
    "print(X1.ndim)\n",
    "\n",
    "one_dim=arr_sh3.reshape(-1) #to convert n to 1 dimension arrays\n",
    "print(one_dim)\n",
    "print()\n",
    "print(one_dim.ndim)\n"
   ]
  },
  {
   "cell_type": "markdown",
   "metadata": {},
   "source": [
    "# Broadcasting"
   ]
  },
  {
   "cell_type": "code",
   "execution_count": 31,
   "metadata": {},
   "outputs": [
    {
     "name": "stdout",
     "output_type": "stream",
     "text": [
      "[[1 2 3]\n",
      " [2 4 6]\n",
      " [3 6 9]]\n"
     ]
    }
   ],
   "source": [
    "#Broadcasting will be performed on 2x1 with 2x1 or 2x2 2... 2x2 with 2x2 or 4x2\n",
    "var=np.array([1,2,3])\n",
    "var2=([1],[2],[3])\n",
    "print(var*var2)"
   ]
  },
  {
   "cell_type": "code",
   "execution_count": 32,
   "metadata": {},
   "outputs": [
    {
     "name": "stdout",
     "output_type": "stream",
     "text": [
      "[[1 4 9]\n",
      " [1 4 9]\n",
      " [1 4 9]]\n"
     ]
    }
   ],
   "source": [
    "var1=np.array([[1,2,3],[1,2,3],[1,2,3]])\n",
    "var3=np.array([1,2,3])\n",
    "print(var1*var3)"
   ]
  },
  {
   "cell_type": "markdown",
   "metadata": {},
   "source": [
    "# slicing "
   ]
  },
  {
   "cell_type": "code",
   "execution_count": 3,
   "metadata": {},
   "outputs": [
    {
     "name": "stdout",
     "output_type": "stream",
     "text": [
      "[7 5 3]\n",
      "[3 3 4 5 6 7]\n"
     ]
    }
   ],
   "source": [
    "var=np.array([7,6,5,4,3,3])\n",
    "print(var[::2])  #print values skipping 1 value in b/w\n",
    "print(var[::-1]) #reverse an array"
   ]
  },
  {
   "cell_type": "code",
   "execution_count": 5,
   "metadata": {},
   "outputs": [
    {
     "name": "stdout",
     "output_type": "stream",
     "text": [
      "[5 6 7 8]\n"
     ]
    }
   ],
   "source": [
    "var2=np.array([[1,2,3,4],[5,6,7,8]])\n",
    "print(var2[1,:]) #print all the elements of row 2"
   ]
  },
  {
   "cell_type": "code",
   "execution_count": 6,
   "metadata": {},
   "outputs": [
    {
     "name": "stdout",
     "output_type": "stream",
     "text": [
      "6\n"
     ]
    }
   ],
   "source": [
    "var3=np.array([[[1,2,3,4,5],[24,56,6,7,8]],[[9,8,7,6,5],[3,4,6,7,1]]])\n",
    "print(var3[1,0,3]) \n"
   ]
  },
  {
   "cell_type": "markdown",
   "metadata": {},
   "source": [
    "# iteration"
   ]
  },
  {
   "cell_type": "code",
   "execution_count": 10,
   "metadata": {},
   "outputs": [
    {
     "name": "stdout",
     "output_type": "stream",
     "text": [
      "7\n",
      "6\n",
      "5\n",
      "4\n",
      "3\n",
      "3\n"
     ]
    }
   ],
   "source": [
    "var=np.array([7,6,5,4,3,3])\n",
    "for i in var:\n",
    "    print(i)"
   ]
  },
  {
   "cell_type": "code",
   "execution_count": 14,
   "metadata": {},
   "outputs": [
    {
     "name": "stdout",
     "output_type": "stream",
     "text": [
      "1\n",
      "2\n",
      "3\n",
      "4\n",
      "5\n",
      "6\n",
      "7\n",
      "8\n"
     ]
    }
   ],
   "source": [
    "var2=np.array([[1,2,3,4],[5,6,7,8]])\n",
    "for i in var2:\n",
    "    for l in i:\n",
    "     print(l)"
   ]
  },
  {
   "cell_type": "code",
   "execution_count": 23,
   "metadata": {},
   "outputs": [
    {
     "name": "stdout",
     "output_type": "stream",
     "text": [
      "1\n",
      "2\n",
      "3\n",
      "4\n",
      "5\n",
      "6\n",
      "7\n",
      "8\n",
      "2\n",
      "3\n",
      "1\n",
      "4\n",
      "3\n",
      "7\n",
      "6\n",
      "4\n"
     ]
    }
   ],
   "source": [
    "var2=np.array([[[1,2,3,4],[5,6,7,8]],[[2,3,1,4],[3,7,6,4]]])\n",
    "for i in var2:\n",
    " for l in i:\n",
    "    for k in l:\n",
    "      print(k)"
   ]
  },
  {
   "cell_type": "code",
   "execution_count": 2,
   "metadata": {},
   "outputs": [
    {
     "name": "stdout",
     "output_type": "stream",
     "text": [
      "1\n",
      "2\n",
      "3\n",
      "4\n",
      "5\n",
      "6\n",
      "7\n",
      "8\n",
      "2\n",
      "3\n",
      "1\n",
      "4\n",
      "3\n",
      "7\n",
      "6\n",
      "4\n"
     ]
    }
   ],
   "source": [
    "var2=np.array([[[1,2,3,4],[5,6,7,8]],[[2,3,1,4],[3,7,6,4]]])\n",
    "for i in np.nditer(var2):\n",
    "    print(i)"
   ]
  },
  {
   "cell_type": "code",
   "execution_count": 7,
   "metadata": {},
   "outputs": [
    {
     "name": "stdout",
     "output_type": "stream",
     "text": [
      "1\n",
      "3\n",
      "2\n",
      "4\n"
     ]
    }
   ],
   "source": [
    "\n",
    "\n",
    "arr = np.array([[1, 2], [3, 4]])\n",
    "\n",
    "for element in np.nditer(arr, order='F'): #ROW Major order C And column major order F nditer to not use more and more for loops\n",
    "    print(element)"
   ]
  },
  {
   "cell_type": "code",
   "execution_count": 9,
   "metadata": {},
   "outputs": [
    {
     "name": "stdout",
     "output_type": "stream",
     "text": [
      "((0, 0), 1)\n",
      "((0, 1), 2)\n",
      "((1, 0), 3)\n",
      "((1, 1), 4)\n"
     ]
    }
   ],
   "source": [
    "\n",
    "\n",
    "arr = np.array([[1, 2], [3, 4]])\n",
    "\n",
    "for element in np.ndenumerate(arr): \n",
    "    print(element)"
   ]
  },
  {
   "cell_type": "code",
   "execution_count": 2,
   "metadata": {},
   "outputs": [
    {
     "name": "stdout",
     "output_type": "stream",
     "text": [
      "b'1'\n",
      "b'2'\n",
      "b'3'\n"
     ]
    }
   ],
   "source": [
    "import numpy as np\n",
    "\n",
    "arr = np.array([1, 2, 3])\n",
    "\n",
    "for x in np.nditer(arr, flags=['buffered'], op_dtypes=['S']):\n",
    "  print(x)"
   ]
  },
  {
   "cell_type": "code",
   "execution_count": 3,
   "metadata": {},
   "outputs": [
    {
     "name": "stdout",
     "output_type": "stream",
     "text": [
      "Index: (0, 0), Value: 1\n",
      "Index: (0, 1), Value: 2\n",
      "Index: (1, 0), Value: 3\n",
      "Index: (1, 1), Value: 4\n"
     ]
    }
   ],
   "source": [
    "import numpy as np\n",
    "\n",
    "arr = np.array([[1, 2], [3, 4]])\n",
    "\n",
    "for index, value in np.ndenumerate(arr):\n",
    "    print(f\"Index: {index}, Value: {value}\") #When ndenumerate is called with a NumPy array as an argument, it creates an iterator. When you iterate over this object (e.g., in a for loop), it yields a tuple for each element in the array. This tuple contains two items:"
   ]
  },
  {
   "cell_type": "markdown",
   "metadata": {},
   "source": [
    "# nditer \n"
   ]
  },
  {
   "cell_type": "markdown",
   "metadata": {},
   "source": [
    "Modifying Array Values:\n",
    "Enables in-place modification of array elements by specifying readwrite or writeonly flags for operands. \n",
    "When modifying, the nditer should be used as a context manager (with statement) or its close() method should be called \n",
    "to ensure changes are written back to the original array."
   ]
  },
  {
   "cell_type": "code",
   "execution_count": 10,
   "metadata": {},
   "outputs": [
    {
     "name": "stdout",
     "output_type": "stream",
     "text": [
      "orignal arr:\n",
      "[1 2]\n",
      "[3 4]\n",
      "\n",
      "Modification in oignal array\n",
      "[[2 4]\n",
      " [3 4]]\n",
      "[[2 4]\n",
      " [6 8]]\n"
     ]
    }
   ],
   "source": [
    "arr = np.array([[1, 2], [3, 4]])\n",
    "print(\"orignal arr:\")\n",
    "for i in arr:\n",
    "    print(i)\n",
    "print()\n",
    "print(\"Modification in oignal array\")\n",
    "with np.nditer(arr,op_flags=[\"readwrite\"]) as it:\n",
    "        for k in arr:\n",
    "            k[...]=k*2 #modify in place orignal array\n",
    "            print(arr)"
   ]
  },
  {
   "cell_type": "code",
   "execution_count": 7,
   "metadata": {},
   "outputs": [
    {
     "name": "stdout",
     "output_type": "stream",
     "text": [
      "[2 4]\n",
      "[6 8]\n"
     ]
    }
   ],
   "source": [
    "for i in arr:\n",
    "    print(i)"
   ]
  },
  {
   "cell_type": "markdown",
   "metadata": {},
   "source": [
    "# copy vs view "
   ]
  },
  {
   "cell_type": "markdown",
   "metadata": {},
   "source": [
    "copy means creating a new array and view means viewing the orignal array any changes made in view will be made in org arry"
   ]
  },
  {
   "cell_type": "code",
   "execution_count": 2,
   "metadata": {},
   "outputs": [
    {
     "name": "stdout",
     "output_type": "stream",
     "text": [
      "orignal: [[1 2]\n",
      " [3 4]]\n",
      "copy: [[1 2]\n",
      " [3 4]]\n"
     ]
    }
   ],
   "source": [
    "arr = np.array([[1, 2], [3, 4]])\n",
    "cop=arr.copy()\n",
    "print(\"orignal:\",arr)\n",
    "print(\"copy:\",cop)"
   ]
  },
  {
   "cell_type": "code",
   "execution_count": 9,
   "metadata": {},
   "outputs": [
    {
     "name": "stdout",
     "output_type": "stream",
     "text": [
      "orignal: [[2 4]\n",
      " [6 8]]\n",
      "view: [[2 4]\n",
      " [6 8]]\n"
     ]
    }
   ],
   "source": [
    "arr = np.array([[1, 2],[3, 4]])\n",
    "vw=arr.view()\n",
    "with np.nditer(vw,op_flags=['readwrite']) as it:\n",
    "  for i in it:\n",
    "    i[...]=i*2\n",
    "print(\"orignal:\",arr)\n",
    "print(\"view:\",vw)"
   ]
  },
  {
   "cell_type": "markdown",
   "metadata": {},
   "source": [
    "# joining arrays using 1.concatenate,2.stack(hstack,vstack,dstack,axis=0,axis=1)"
   ]
  },
  {
   "cell_type": "code",
   "execution_count": 5,
   "metadata": {},
   "outputs": [
    {
     "name": "stdout",
     "output_type": "stream",
     "text": [
      "[[1 2 0 2]\n",
      " [3 4 8 5]]\n",
      "[[1 2]\n",
      " [3 4]\n",
      " [0 2]\n",
      " [8 5]]\n"
     ]
    }
   ],
   "source": [
    "arr = np.array([[1, 2],[3, 4]])\n",
    "arr_1 = np.array([[0, 2],[8, 5]])\n",
    "print(np.concatenate((arr,arr_1),axis=1)) #along the row\n",
    "print(np.concatenate((arr,arr_1),axis=0)) #along the column"
   ]
  },
  {
   "cell_type": "code",
   "execution_count": 7,
   "metadata": {},
   "outputs": [
    {
     "name": "stdout",
     "output_type": "stream",
     "text": [
      "[[[1 2]\n",
      "  [0 2]]\n",
      "\n",
      " [[3 4]\n",
      "  [8 5]]]\n",
      "[[1 2]\n",
      " [3 4]\n",
      " [0 2]\n",
      " [8 5]]\n",
      "[[1 2 0 2]\n",
      " [3 4 8 5]]\n",
      "[[[1 0]\n",
      "  [2 2]]\n",
      "\n",
      " [[3 8]\n",
      "  [4 5]]]\n"
     ]
    }
   ],
   "source": [
    "arr = np.array([[1, 2],[3, 4]])\n",
    "arr_1 = np.array([[0, 2],[8, 5]])\n",
    "print(np.stack((arr,arr_1),axis=1))\n",
    "print(np.vstack((arr,arr_1))) #column\n",
    "print(np.hstack((arr,arr_1))) #row\n",
    "print(np.dstack((arr,arr_1))) #height"
   ]
  },
  {
   "cell_type": "markdown",
   "metadata": {},
   "source": [
    "# Split Array"
   ]
  },
  {
   "cell_type": "code",
   "execution_count": 9,
   "metadata": {},
   "outputs": [
    {
     "name": "stdout",
     "output_type": "stream",
     "text": [
      "[1 2 3 4]\n",
      "\n",
      "[array([1, 2]), array([3, 4])]\n"
     ]
    }
   ],
   "source": [
    "arr = np.array([1, 2,3, 4])\n",
    "\n",
    "print(arr)\n",
    "print()\n",
    "print(np.split(arr,2))"
   ]
  },
  {
   "cell_type": "code",
   "execution_count": 16,
   "metadata": {},
   "outputs": [
    {
     "name": "stdout",
     "output_type": "stream",
     "text": [
      "[[1 2]\n",
      " [3 4]\n",
      " [3 5]]\n",
      "\n",
      "[array([[1],\n",
      "       [3],\n",
      "       [3]]), array([[2],\n",
      "       [4],\n",
      "       [5]])]\n"
     ]
    }
   ],
   "source": [
    "arr = np.array([[1, 2],[3, 4],[3,5]])\n",
    "\n",
    "print(arr)\n",
    "print()\n",
    "print(np.split(arr,2,axis=1))"
   ]
  },
  {
   "cell_type": "markdown",
   "metadata": {},
   "source": [
    "# Numpy Array Functions (search,sorted,search sorted,filter)"
   ]
  },
  {
   "cell_type": "code",
   "execution_count": 2,
   "metadata": {},
   "outputs": [
    {
     "name": "stdout",
     "output_type": "stream",
     "text": [
      "(array([2, 4], dtype=int64),)\n"
     ]
    }
   ],
   "source": [
    "arr = np.array([1, 2,3, 4,3,5])\n",
    "print(np.where(arr==3)) #search and return indexes"
   ]
  },
  {
   "cell_type": "code",
   "execution_count": 3,
   "metadata": {},
   "outputs": [
    {
     "name": "stdout",
     "output_type": "stream",
     "text": [
      "(array([1, 2], dtype=int64), array([0, 0], dtype=int64))\n"
     ]
    }
   ],
   "source": [
    "arr = np.array([[1, 2],[3, 4],[3,5]])\n",
    "print(np.where(arr==3)) #search and return indexes"
   ]
  },
  {
   "cell_type": "markdown",
   "metadata": {},
   "source": [
    "# searchsorted works like a binary array gives the index where any new particular value could be placed"
   ]
  },
  {
   "cell_type": "code",
   "execution_count": 4,
   "metadata": {},
   "outputs": [
    {
     "name": "stdout",
     "output_type": "stream",
     "text": [
      "3\n"
     ]
    }
   ],
   "source": [
    "arr = np.array([1, 2,3,5])\n",
    "print(np.searchsorted(arr,4)) \n",
    "print(np.searchsorted(arr,4,side=\"right\")) "
   ]
  },
  {
   "cell_type": "markdown",
   "metadata": {},
   "source": [
    "# sort"
   ]
  },
  {
   "cell_type": "code",
   "execution_count": 5,
   "metadata": {},
   "outputs": [
    {
     "name": "stdout",
     "output_type": "stream",
     "text": [
      "[ 0  1  3  4  5  6 23 52]\n"
     ]
    }
   ],
   "source": [
    "arr = np.array([1, 23,4,5,6,3,52,0])\n",
    "print(np.sort(arr))"
   ]
  },
  {
   "cell_type": "code",
   "execution_count": 8,
   "metadata": {},
   "outputs": [
    {
     "name": "stdout",
     "output_type": "stream",
     "text": [
      "['d' 'f' 'p' 's']\n"
     ]
    }
   ],
   "source": [
    "arr_1=np.array([\"s\",\"p\",\"d\",\"f\"])\n",
    "print(np.sort(arr_1))"
   ]
  },
  {
   "cell_type": "code",
   "execution_count": 12,
   "metadata": {},
   "outputs": [
    {
     "name": "stdout",
     "output_type": "stream",
     "text": [
      "[ 5 41]\n"
     ]
    }
   ],
   "source": [
    "arr = np.array([[[1, 23],[41,5]],[[6,3],[52,0]]])\n",
    "print(np.sort(arr[0,1]))"
   ]
  },
  {
   "cell_type": "markdown",
   "metadata": {},
   "source": [
    "# Filter Array"
   ]
  },
  {
   "cell_type": "code",
   "execution_count": 14,
   "metadata": {},
   "outputs": [
    {
     "name": "stdout",
     "output_type": "stream",
     "text": [
      "[True, False, True, False]\n",
      "['s' 'd']\n"
     ]
    }
   ],
   "source": [
    "arr_1=np.array([\"s\",\"p\",\"d\",\"f\"])\n",
    "f=[True,False,True,False]\n",
    "print(f)\n",
    "new_n=arr_1[f]\n",
    "print(new_n)\n"
   ]
  },
  {
   "cell_type": "markdown",
   "metadata": {},
   "source": [
    "# shuffle"
   ]
  },
  {
   "cell_type": "code",
   "execution_count": 5,
   "metadata": {},
   "outputs": [
    {
     "name": "stdout",
     "output_type": "stream",
     "text": [
      "['p' 'f' 'd' 's']\n"
     ]
    }
   ],
   "source": [
    "arr_1=np.array([\"s\",\"p\",\"d\",\"f\"])\n",
    "np.random.shuffle(arr_1)\n",
    "print(arr_1)"
   ]
  },
  {
   "cell_type": "code",
   "execution_count": 11,
   "metadata": {},
   "outputs": [
    {
     "name": "stdout",
     "output_type": "stream",
     "text": [
      "(array(['d', 'f', 'p', 's'], dtype='<U1'), array([2, 3, 1, 0], dtype=int64), array([1, 2, 2, 1], dtype=int64))\n"
     ]
    }
   ],
   "source": [
    "arr_1=np.array([\"s\",\"p\",\"d\",\"f\",'f','p'])\n",
    "np.unique(arr_1)\n",
    "print(np.unique(arr_1,return_index=True,return_counts=True))\n"
   ]
  },
  {
   "cell_type": "code",
   "execution_count": 12,
   "metadata": {},
   "outputs": [
    {
     "data": {
      "text/plain": [
       "array([['s', 'p', 'd'],\n",
       "       ['f', 'f', 'p']], dtype='<U1')"
      ]
     },
     "execution_count": 12,
     "metadata": {},
     "output_type": "execute_result"
    }
   ],
   "source": [
    "arr_1=np.array([\"s\",\"p\",\"d\",\"f\",'f','p'])\n",
    "np.resize(arr_1,(2,3))\n"
   ]
  },
  {
   "cell_type": "markdown",
   "metadata": {},
   "source": [
    "# flatten / ravel to convert two dimension array into 1 diension"
   ]
  },
  {
   "cell_type": "markdown",
   "metadata": {},
   "source": [
    "Order could be C F A K "
   ]
  },
  {
   "cell_type": "code",
   "execution_count": 10,
   "metadata": {},
   "outputs": [
    {
     "name": "stdout",
     "output_type": "stream",
     "text": [
      "[['s' 'p' 'd']\n",
      " ['f' 'f' 'p']]\n",
      "\n",
      "Flatten no parameter of numpy: ['s' 'f' 'p' 'f' 'd' 'p']\n",
      "\n",
      "Ravel parameter of Numpy: ['s' 'f' 'p' 'f' 'd' 'p']\n"
     ]
    }
   ],
   "source": [
    "arr_1=np.array([\"s\",\"p\",\"d\",\"f\",'f','p'])\n",
    "y=np.resize(arr_1,(2,3))\n",
    "print(y)\n",
    "print()\n",
    "print(\"Flatten no parameter of numpy:\",y.flatten(order=\"F\"))\n",
    "print()\n",
    "print(\"Ravel parameter of Numpy:\",np.ravel(y,order=\"F\"))"
   ]
  },
  {
   "cell_type": "markdown",
   "metadata": {},
   "source": [
    "# insert "
   ]
  },
  {
   "cell_type": "code",
   "execution_count": 3,
   "metadata": {},
   "outputs": [
    {
     "name": "stdout",
     "output_type": "stream",
     "text": [
      "['s' 'p' 'd' 'f' 'f' 'p']\n",
      "\n",
      "['s' 'p' 'd' 'e' 'f' 'f' 'p']\n"
     ]
    }
   ],
   "source": [
    "arr_1=np.array([\"s\",\"p\",\"d\",\"f\",'f','p'])\n",
    "arr=np.insert(arr_1,3,\"e\")\n",
    "print(arr_1)\n",
    "print()\n",
    "print(arr)"
   ]
  },
  {
   "cell_type": "markdown",
   "metadata": {},
   "source": [
    "Axis 0: This axis runs vertically, down the rows. Operations performed along axis=0 will apply independently to each column.\n"
   ]
  },
  {
   "cell_type": "code",
   "execution_count": 15,
   "metadata": {},
   "outputs": [
    {
     "name": "stdout",
     "output_type": "stream",
     "text": [
      "[['s' 'p']\n",
      " ['d' 'f']\n",
      " ['f' 'p']]\n",
      "\n",
      "[['s' 'p']\n",
      " ['d' 'f']\n",
      " ['f' 'p']\n",
      " ['e' 'e']]\n",
      "\n",
      "[['s' 'p']\n",
      " ['d' 'f']\n",
      " ['f' 'p']\n",
      " ['e' 'y']]\n"
     ]
    }
   ],
   "source": [
    "arr_1=np.array([[\"s\",\"p\"],[\"d\",\"f\"],['f','p']])\n",
    "arr=np.insert(arr_1,3,\"e\",axis=0)\n",
    "ar=np.append(arr_1,[[\"e\",\"y\"]],axis=0)\n",
    "print(arr_1)\n",
    "print()\n",
    "print(arr)\n",
    "print()\n",
    "print(ar)"
   ]
  },
  {
   "cell_type": "markdown",
   "metadata": {},
   "source": [
    "Axis 1: This axis runs horizontally, across the columns. Operations performed along axis=1 will apply independently to each row."
   ]
  },
  {
   "cell_type": "code",
   "execution_count": 18,
   "metadata": {},
   "outputs": [
    {
     "name": "stdout",
     "output_type": "stream",
     "text": [
      "[['s' 'p']\n",
      " ['d' 'f']\n",
      " ['f' 'p']]\n",
      "\n",
      "[['s' 'e' 'p' 'y']\n",
      " ['d' 'e' 'f' 'y']\n",
      " ['f' 'e' 'p' 'y']]\n",
      "\n",
      "['s' 'p' 'd' 'f' 'f' 'p' 'e' 'y']\n"
     ]
    }
   ],
   "source": [
    "arr_1=np.array([[\"s\",\"p\"],[\"d\",\"f\"],['f','p']])\n",
    "arr=np.insert(arr_1,(1,2),[\"e\",\"y\"],axis=1)\n",
    "ar=np.append(arr_1,[[\"e\",\"y\"]])\n",
    "print(arr_1)\n",
    "print()\n",
    "print(arr)\n",
    "print()\n",
    "print(ar)\n"
   ]
  },
  {
   "cell_type": "markdown",
   "metadata": {},
   "source": [
    "# delete"
   ]
  },
  {
   "cell_type": "code",
   "execution_count": 21,
   "metadata": {},
   "outputs": [
    {
     "name": "stdout",
     "output_type": "stream",
     "text": [
      "['s' 'p' 'f' 'f' 'p']\n"
     ]
    }
   ],
   "source": [
    "del_1=np.delete(arr_1,2)\n",
    "print(del_1)"
   ]
  },
  {
   "cell_type": "markdown",
   "metadata": {},
   "source": [
    "# Concept of Matrix"
   ]
  },
  {
   "cell_type": "code",
   "execution_count": 4,
   "metadata": {},
   "outputs": [
    {
     "name": "stdout",
     "output_type": "stream",
     "text": [
      "[[1 2]\n",
      " [1 3]]\n",
      "\n",
      "[[ 3 20]\n",
      " [ 4 29]]\n"
     ]
    }
   ],
   "source": [
    "var1=np.matrix([[1,2],[1,3]])\n",
    "var2=np.matrix([[1,2],[1,9]])\n",
    "print(var1)\n",
    "print()\n",
    "print(var1.dot(var2))"
   ]
  },
  {
   "cell_type": "markdown",
   "metadata": {},
   "source": [
    "# Matrix functions in numpy arrays"
   ]
  },
  {
   "cell_type": "markdown",
   "metadata": {},
   "source": [
    "1. Transpose convert rows into column 2.swapaxwes,3.inverse 4.power 5.determinant of matrix"
   ]
  },
  {
   "cell_type": "code",
   "execution_count": 20,
   "metadata": {},
   "outputs": [
    {
     "name": "stdout",
     "output_type": "stream",
     "text": [
      "[[1 2]\n",
      " [1 3]]\n",
      "\n",
      "[[1 1]\n",
      " [2 3]]\n",
      "\n",
      "[[1 1]\n",
      " [2 3]]\n",
      "\n",
      "[[1 1]\n",
      " [2 3]]\n",
      "\n",
      "[[ 3. -2.]\n",
      " [-1.  1.]]\n",
      "\n",
      "[[11 30]\n",
      " [15 41]]\n",
      "\n",
      "[[ 41. -30.]\n",
      " [-15.  11.]]\n",
      "\n",
      "[[1 0]\n",
      " [0 1]]\n",
      "\n",
      "1.0\n"
     ]
    }
   ],
   "source": [
    "var1=np.matrix([[1,2],[1,3]])\n",
    "print(var1)\n",
    "print()\n",
    "print(np.transpose(var1)) #transpose\n",
    "print()\n",
    "print(var1.T) #transpose\n",
    "print()\n",
    "print(np.swapaxes(var1,1,0)) #axis 1 to 0 sawapaxes\n",
    "print()\n",
    "print(np.linalg.inv(var1)) #inverse\n",
    "print()\n",
    "print(np.linalg.matrix_power(var1,3)) #power when n>0 n=power which is 3 in this case\n",
    "print()\n",
    "print(np.linalg.matrix_power(var1,-3)) # inverse*power in case of n<0 -3\n",
    "print()\n",
    "print(np.linalg.matrix_power(var1,0)) #gives identity matrix\n",
    "print()\n",
    "print(np.linalg.det(var1)) #determinant"
   ]
  },
  {
   "cell_type": "markdown",
   "metadata": {},
   "source": [
    "# handeling missing values"
   ]
  },
  {
   "cell_type": "markdown",
   "metadata": {},
   "source": [
    "# Nan(not a number) np.isnan() to detect null values"
   ]
  },
  {
   "cell_type": "code",
   "execution_count": 6,
   "metadata": {},
   "outputs": [
    {
     "name": "stdout",
     "output_type": "stream",
     "text": [
      "[False False False  True False]\n"
     ]
    }
   ],
   "source": [
    "arr=np.array([1,2,3,np.nan,9])\n",
    "print(np.isnan(arr)) #will return true for null value"
   ]
  },
  {
   "cell_type": "markdown",
   "metadata": {},
   "source": [
    "if(np.nan==np.nan): #no we cannot compare them directly"
   ]
  },
  {
   "cell_type": "code",
   "execution_count": 10,
   "metadata": {},
   "outputs": [
    {
     "name": "stdout",
     "output_type": "stream",
     "text": [
      "[ 1.  2.  3. 12.  9.]\n"
     ]
    }
   ],
   "source": [
    "cleaned_arr=np.nan_to_num(arr,nan=12) #default value will be zero\n",
    "print(cleaned_arr)"
   ]
  },
  {
   "cell_type": "markdown",
   "metadata": {},
   "source": [
    "# deaing with infinite values"
   ]
  },
  {
   "cell_type": "code",
   "execution_count": 12,
   "metadata": {},
   "outputs": [
    {
     "name": "stdout",
     "output_type": "stream",
     "text": [
      "[False False  True False  True]\n"
     ]
    }
   ],
   "source": [
    "arr_1=([1,2,np.inf,32,-np.inf])\n",
    "print(np.isinf(arr_1)) #return true or false"
   ]
  },
  {
   "cell_type": "code",
   "execution_count": 14,
   "metadata": {},
   "outputs": [
    {
     "name": "stdout",
     "output_type": "stream",
     "text": [
      "[   1.    2.  199.   32. -199.]\n"
     ]
    }
   ],
   "source": [
    "cleaned_arr1=np.nan_to_num(arr_1,posinf=199,neginf=-199) \n",
    "print(cleaned_arr1)"
   ]
  },
  {
   "cell_type": "markdown",
   "metadata": {},
   "source": [
    "# # Read the CSV file into a NumPy array, handling missing values\n",
    "# data = np.genfromtxt('Employee.csv', delimiter=',', dtype=None, names=True, encoding='utf-8')\n",
    "\n",
    "# print(data)"
   ]
  },
  {
   "cell_type": "code",
   "execution_count": 2,
   "metadata": {},
   "outputs": [],
   "source": [
    "import pandas as pd "
   ]
  },
  {
   "cell_type": "code",
   "execution_count": 3,
   "metadata": {},
   "outputs": [],
   "source": [
    "data=pd.read_csv(\"Employee.csv\")"
   ]
  },
  {
   "cell_type": "code",
   "execution_count": 4,
   "metadata": {},
   "outputs": [
    {
     "name": "stdout",
     "output_type": "stream",
     "text": [
      "      Education  JoiningYear       City  PaymentTier   Age  Gender  \\\n",
      "0     Bachelors         2017  Bangalore            3  34.0    Male   \n",
      "1     Bachelors         2013       Pune            1  28.0  Female   \n",
      "2     Bachelors         2014  New Delhi            3  38.0  Female   \n",
      "3       Masters         2016  Bangalore            3  27.0    Male   \n",
      "4       Masters         2017       Pune            3  24.0    Male   \n",
      "...         ...          ...        ...          ...   ...     ...   \n",
      "4648  Bachelors         2013  Bangalore            3  26.0  Female   \n",
      "4649    Masters         2013       Pune            2  37.0    Male   \n",
      "4650    Masters         2018  New Delhi            3  27.0    Male   \n",
      "4651  Bachelors         2012  Bangalore            3  30.0    Male   \n",
      "4652  Bachelors         2015  Bangalore            3  33.0     NaN   \n",
      "\n",
      "     EverBenched  ExperienceInCurrentDomain  LeaveOrNot  \n",
      "0             No                        0.0           0  \n",
      "1             No                        3.0           1  \n",
      "2             No                        2.0           0  \n",
      "3             No                        5.0           1  \n",
      "4            Yes                        2.0           1  \n",
      "...          ...                        ...         ...  \n",
      "4648          No                        3.0           0  \n",
      "4649          No                        3.0           1  \n",
      "4650          No                        3.0           1  \n",
      "4651         Yes                        3.0           0  \n",
      "4652         Yes                        3.0           0  \n",
      "\n",
      "[4653 rows x 9 columns]\n"
     ]
    }
   ],
   "source": [
    "print(data)"
   ]
  },
  {
   "cell_type": "code",
   "execution_count": 5,
   "metadata": {},
   "outputs": [
    {
     "data": {
      "text/html": [
       "<div>\n",
       "<style scoped>\n",
       "    .dataframe tbody tr th:only-of-type {\n",
       "        vertical-align: middle;\n",
       "    }\n",
       "\n",
       "    .dataframe tbody tr th {\n",
       "        vertical-align: top;\n",
       "    }\n",
       "\n",
       "    .dataframe thead th {\n",
       "        text-align: right;\n",
       "    }\n",
       "</style>\n",
       "<table border=\"1\" class=\"dataframe\">\n",
       "  <thead>\n",
       "    <tr style=\"text-align: right;\">\n",
       "      <th></th>\n",
       "      <th>JoiningYear</th>\n",
       "      <th>PaymentTier</th>\n",
       "      <th>Age</th>\n",
       "      <th>ExperienceInCurrentDomain</th>\n",
       "      <th>LeaveOrNot</th>\n",
       "    </tr>\n",
       "  </thead>\n",
       "  <tbody>\n",
       "    <tr>\n",
       "      <th>count</th>\n",
       "      <td>4653.000000</td>\n",
       "      <td>4653.000000</td>\n",
       "      <td>4652.000000</td>\n",
       "      <td>4652.000000</td>\n",
       "      <td>4653.000000</td>\n",
       "    </tr>\n",
       "    <tr>\n",
       "      <th>mean</th>\n",
       "      <td>2015.062970</td>\n",
       "      <td>2.698259</td>\n",
       "      <td>29.392304</td>\n",
       "      <td>3.058469</td>\n",
       "      <td>0.343864</td>\n",
       "    </tr>\n",
       "    <tr>\n",
       "      <th>std</th>\n",
       "      <td>1.863377</td>\n",
       "      <td>0.561435</td>\n",
       "      <td>4.826133</td>\n",
       "      <td>0.712045</td>\n",
       "      <td>0.475047</td>\n",
       "    </tr>\n",
       "    <tr>\n",
       "      <th>min</th>\n",
       "      <td>2012.000000</td>\n",
       "      <td>1.000000</td>\n",
       "      <td>22.000000</td>\n",
       "      <td>0.000000</td>\n",
       "      <td>0.000000</td>\n",
       "    </tr>\n",
       "    <tr>\n",
       "      <th>25%</th>\n",
       "      <td>2013.000000</td>\n",
       "      <td>3.000000</td>\n",
       "      <td>26.000000</td>\n",
       "      <td>3.000000</td>\n",
       "      <td>0.000000</td>\n",
       "    </tr>\n",
       "    <tr>\n",
       "      <th>50%</th>\n",
       "      <td>2015.000000</td>\n",
       "      <td>3.000000</td>\n",
       "      <td>28.000000</td>\n",
       "      <td>3.000000</td>\n",
       "      <td>0.000000</td>\n",
       "    </tr>\n",
       "    <tr>\n",
       "      <th>75%</th>\n",
       "      <td>2017.000000</td>\n",
       "      <td>3.000000</td>\n",
       "      <td>32.000000</td>\n",
       "      <td>3.000000</td>\n",
       "      <td>1.000000</td>\n",
       "    </tr>\n",
       "    <tr>\n",
       "      <th>max</th>\n",
       "      <td>2018.000000</td>\n",
       "      <td>3.000000</td>\n",
       "      <td>41.000000</td>\n",
       "      <td>5.000000</td>\n",
       "      <td>1.000000</td>\n",
       "    </tr>\n",
       "  </tbody>\n",
       "</table>\n",
       "</div>"
      ],
      "text/plain": [
       "       JoiningYear  PaymentTier          Age  ExperienceInCurrentDomain  \\\n",
       "count  4653.000000  4653.000000  4652.000000                4652.000000   \n",
       "mean   2015.062970     2.698259    29.392304                   3.058469   \n",
       "std       1.863377     0.561435     4.826133                   0.712045   \n",
       "min    2012.000000     1.000000    22.000000                   0.000000   \n",
       "25%    2013.000000     3.000000    26.000000                   3.000000   \n",
       "50%    2015.000000     3.000000    28.000000                   3.000000   \n",
       "75%    2017.000000     3.000000    32.000000                   3.000000   \n",
       "max    2018.000000     3.000000    41.000000                   5.000000   \n",
       "\n",
       "        LeaveOrNot  \n",
       "count  4653.000000  \n",
       "mean      0.343864  \n",
       "std       0.475047  \n",
       "min       0.000000  \n",
       "25%       0.000000  \n",
       "50%       0.000000  \n",
       "75%       1.000000  \n",
       "max       1.000000  "
      ]
     },
     "execution_count": 5,
     "metadata": {},
     "output_type": "execute_result"
    }
   ],
   "source": [
    "data.describe()"
   ]
  },
  {
   "cell_type": "code",
   "execution_count": 6,
   "metadata": {},
   "outputs": [
    {
     "name": "stdout",
     "output_type": "stream",
     "text": [
      "<class 'pandas.core.frame.DataFrame'>\n",
      "RangeIndex: 4653 entries, 0 to 4652\n",
      "Data columns (total 9 columns):\n",
      " #   Column                     Non-Null Count  Dtype  \n",
      "---  ------                     --------------  -----  \n",
      " 0   Education                  4653 non-null   object \n",
      " 1   JoiningYear                4653 non-null   int64  \n",
      " 2   City                       4650 non-null   object \n",
      " 3   PaymentTier                4653 non-null   int64  \n",
      " 4   Age                        4652 non-null   float64\n",
      " 5   Gender                     4651 non-null   object \n",
      " 6   EverBenched                4651 non-null   object \n",
      " 7   ExperienceInCurrentDomain  4652 non-null   float64\n",
      " 8   LeaveOrNot                 4653 non-null   int64  \n",
      "dtypes: float64(2), int64(3), object(4)\n",
      "memory usage: 327.3+ KB\n"
     ]
    }
   ],
   "source": [
    "data.info()"
   ]
  },
  {
   "cell_type": "code",
   "execution_count": 24,
   "metadata": {},
   "outputs": [
    {
     "name": "stdout",
     "output_type": "stream",
     "text": [
      "Missing values in each column:\n",
      "Education                    0\n",
      "JoiningYear                  0\n",
      "City                         0\n",
      "PaymentTier                  0\n",
      "Age                          0\n",
      "Gender                       0\n",
      "EverBenched                  0\n",
      "ExperienceInCurrentDomain    0\n",
      "LeaveOrNot                   0\n",
      "dtype: int64\n"
     ]
    }
   ],
   "source": [
    "print(\"Missing values in each column:\")\n",
    "print(data.isnull().sum())"
   ]
  },
  {
   "cell_type": "code",
   "execution_count": 8,
   "metadata": {},
   "outputs": [
    {
     "name": "stderr",
     "output_type": "stream",
     "text": [
      "C:\\Users\\A I TECH\\AppData\\Local\\Temp\\ipykernel_1100\\3880802651.py:1: FutureWarning: A value is trying to be set on a copy of a DataFrame or Series through chained assignment using an inplace method.\n",
      "The behavior will change in pandas 3.0. This inplace method will never work because the intermediate object on which we are setting values always behaves as a copy.\n",
      "\n",
      "For example, when doing 'df[col].method(value, inplace=True)', try using 'df.method({col: value}, inplace=True)' or df[col] = df[col].method(value) instead, to perform the operation inplace on the original object.\n",
      "\n",
      "\n",
      "  data['ExperienceInCurrentDomain'].fillna(data['ExperienceInCurrentDomain'].mean(), inplace=True)# With inplace=True (no assignment needed)\n"
     ]
    }
   ],
   "source": [
    "data['ExperienceInCurrentDomain'].fillna(data['ExperienceInCurrentDomain'].mean(), inplace=True)# With inplace=True (no assignment needed)"
   ]
  },
  {
   "cell_type": "code",
   "execution_count": 13,
   "metadata": {},
   "outputs": [],
   "source": [
    "data['City'].fillna(data['City'].mode()[0], inplace=True)"
   ]
  },
  {
   "cell_type": "code",
   "execution_count": 15,
   "metadata": {},
   "outputs": [
    {
     "name": "stderr",
     "output_type": "stream",
     "text": [
      "C:\\Users\\A I TECH\\AppData\\Local\\Temp\\ipykernel_1100\\3647552776.py:1: FutureWarning: A value is trying to be set on a copy of a DataFrame or Series through chained assignment using an inplace method.\n",
      "The behavior will change in pandas 3.0. This inplace method will never work because the intermediate object on which we are setting values always behaves as a copy.\n",
      "\n",
      "For example, when doing 'df[col].method(value, inplace=True)', try using 'df.method({col: value}, inplace=True)' or df[col] = df[col].method(value) instead, to perform the operation inplace on the original object.\n",
      "\n",
      "\n",
      "  data['Age'].fillna(data['Age'].mean(), inplace=True)# With inplace=True (no assignment needed)\n"
     ]
    }
   ],
   "source": [
    "data['Age'].fillna(data['Age'].mean(), inplace=True)# With inplace=True (no assignment needed)"
   ]
  },
  {
   "cell_type": "markdown",
   "metadata": {},
   "source": [
    "# dealing with infinite values "
   ]
  },
  {
   "cell_type": "code",
   "execution_count": 17,
   "metadata": {},
   "outputs": [],
   "source": [
    "data.replace((np.inf,-np.inf),np.nan,inplace=True) "
   ]
  },
  {
   "cell_type": "code",
   "execution_count": 18,
   "metadata": {},
   "outputs": [
    {
     "ename": "TypeError",
     "evalue": "can only concatenate str (not \"int\") to str",
     "output_type": "error",
     "traceback": [
      "\u001b[1;31m---------------------------------------------------------------------------\u001b[0m",
      "\u001b[1;31mTypeError\u001b[0m                                 Traceback (most recent call last)",
      "Cell \u001b[1;32mIn[18], line 1\u001b[0m\n\u001b[1;32m----> 1\u001b[0m data\u001b[38;5;241m.\u001b[39mfillna(data\u001b[38;5;241m.\u001b[39mmean(),inplace\u001b[38;5;241m=\u001b[39m\u001b[38;5;28;01mTrue\u001b[39;00m)\n",
      "File \u001b[1;32mC:\\ProgramData\\anaconda3\\Lib\\site-packages\\pandas\\core\\frame.py:11693\u001b[0m, in \u001b[0;36mDataFrame.mean\u001b[1;34m(self, axis, skipna, numeric_only, **kwargs)\u001b[0m\n\u001b[0;32m  11685\u001b[0m \u001b[38;5;129m@doc\u001b[39m(make_doc(\u001b[38;5;124m\"\u001b[39m\u001b[38;5;124mmean\u001b[39m\u001b[38;5;124m\"\u001b[39m, ndim\u001b[38;5;241m=\u001b[39m\u001b[38;5;241m2\u001b[39m))\n\u001b[0;32m  11686\u001b[0m \u001b[38;5;28;01mdef\u001b[39;00m \u001b[38;5;21mmean\u001b[39m(\n\u001b[0;32m  11687\u001b[0m     \u001b[38;5;28mself\u001b[39m,\n\u001b[1;32m   (...)\u001b[0m\n\u001b[0;32m  11691\u001b[0m     \u001b[38;5;241m*\u001b[39m\u001b[38;5;241m*\u001b[39mkwargs,\n\u001b[0;32m  11692\u001b[0m ):\n\u001b[1;32m> 11693\u001b[0m     result \u001b[38;5;241m=\u001b[39m \u001b[38;5;28msuper\u001b[39m()\u001b[38;5;241m.\u001b[39mmean(axis, skipna, numeric_only, \u001b[38;5;241m*\u001b[39m\u001b[38;5;241m*\u001b[39mkwargs)\n\u001b[0;32m  11694\u001b[0m     \u001b[38;5;28;01mif\u001b[39;00m \u001b[38;5;28misinstance\u001b[39m(result, Series):\n\u001b[0;32m  11695\u001b[0m         result \u001b[38;5;241m=\u001b[39m result\u001b[38;5;241m.\u001b[39m__finalize__(\u001b[38;5;28mself\u001b[39m, method\u001b[38;5;241m=\u001b[39m\u001b[38;5;124m\"\u001b[39m\u001b[38;5;124mmean\u001b[39m\u001b[38;5;124m\"\u001b[39m)\n",
      "File \u001b[1;32mC:\\ProgramData\\anaconda3\\Lib\\site-packages\\pandas\\core\\generic.py:12420\u001b[0m, in \u001b[0;36mNDFrame.mean\u001b[1;34m(self, axis, skipna, numeric_only, **kwargs)\u001b[0m\n\u001b[0;32m  12413\u001b[0m \u001b[38;5;28;01mdef\u001b[39;00m \u001b[38;5;21mmean\u001b[39m(\n\u001b[0;32m  12414\u001b[0m     \u001b[38;5;28mself\u001b[39m,\n\u001b[0;32m  12415\u001b[0m     axis: Axis \u001b[38;5;241m|\u001b[39m \u001b[38;5;28;01mNone\u001b[39;00m \u001b[38;5;241m=\u001b[39m \u001b[38;5;241m0\u001b[39m,\n\u001b[1;32m   (...)\u001b[0m\n\u001b[0;32m  12418\u001b[0m     \u001b[38;5;241m*\u001b[39m\u001b[38;5;241m*\u001b[39mkwargs,\n\u001b[0;32m  12419\u001b[0m ) \u001b[38;5;241m-\u001b[39m\u001b[38;5;241m>\u001b[39m Series \u001b[38;5;241m|\u001b[39m \u001b[38;5;28mfloat\u001b[39m:\n\u001b[1;32m> 12420\u001b[0m     \u001b[38;5;28;01mreturn\u001b[39;00m \u001b[38;5;28mself\u001b[39m\u001b[38;5;241m.\u001b[39m_stat_function(\n\u001b[0;32m  12421\u001b[0m         \u001b[38;5;124m\"\u001b[39m\u001b[38;5;124mmean\u001b[39m\u001b[38;5;124m\"\u001b[39m, nanops\u001b[38;5;241m.\u001b[39mnanmean, axis, skipna, numeric_only, \u001b[38;5;241m*\u001b[39m\u001b[38;5;241m*\u001b[39mkwargs\n\u001b[0;32m  12422\u001b[0m     )\n",
      "File \u001b[1;32mC:\\ProgramData\\anaconda3\\Lib\\site-packages\\pandas\\core\\generic.py:12377\u001b[0m, in \u001b[0;36mNDFrame._stat_function\u001b[1;34m(self, name, func, axis, skipna, numeric_only, **kwargs)\u001b[0m\n\u001b[0;32m  12373\u001b[0m nv\u001b[38;5;241m.\u001b[39mvalidate_func(name, (), kwargs)\n\u001b[0;32m  12375\u001b[0m validate_bool_kwarg(skipna, \u001b[38;5;124m\"\u001b[39m\u001b[38;5;124mskipna\u001b[39m\u001b[38;5;124m\"\u001b[39m, none_allowed\u001b[38;5;241m=\u001b[39m\u001b[38;5;28;01mFalse\u001b[39;00m)\n\u001b[1;32m> 12377\u001b[0m \u001b[38;5;28;01mreturn\u001b[39;00m \u001b[38;5;28mself\u001b[39m\u001b[38;5;241m.\u001b[39m_reduce(\n\u001b[0;32m  12378\u001b[0m     func, name\u001b[38;5;241m=\u001b[39mname, axis\u001b[38;5;241m=\u001b[39maxis, skipna\u001b[38;5;241m=\u001b[39mskipna, numeric_only\u001b[38;5;241m=\u001b[39mnumeric_only\n\u001b[0;32m  12379\u001b[0m )\n",
      "File \u001b[1;32mC:\\ProgramData\\anaconda3\\Lib\\site-packages\\pandas\\core\\frame.py:11562\u001b[0m, in \u001b[0;36mDataFrame._reduce\u001b[1;34m(self, op, name, axis, skipna, numeric_only, filter_type, **kwds)\u001b[0m\n\u001b[0;32m  11558\u001b[0m     df \u001b[38;5;241m=\u001b[39m df\u001b[38;5;241m.\u001b[39mT\n\u001b[0;32m  11560\u001b[0m \u001b[38;5;66;03m# After possibly _get_data and transposing, we are now in the\u001b[39;00m\n\u001b[0;32m  11561\u001b[0m \u001b[38;5;66;03m#  simple case where we can use BlockManager.reduce\u001b[39;00m\n\u001b[1;32m> 11562\u001b[0m res \u001b[38;5;241m=\u001b[39m df\u001b[38;5;241m.\u001b[39m_mgr\u001b[38;5;241m.\u001b[39mreduce(blk_func)\n\u001b[0;32m  11563\u001b[0m out \u001b[38;5;241m=\u001b[39m df\u001b[38;5;241m.\u001b[39m_constructor_from_mgr(res, axes\u001b[38;5;241m=\u001b[39mres\u001b[38;5;241m.\u001b[39maxes)\u001b[38;5;241m.\u001b[39miloc[\u001b[38;5;241m0\u001b[39m]\n\u001b[0;32m  11564\u001b[0m \u001b[38;5;28;01mif\u001b[39;00m out_dtype \u001b[38;5;129;01mis\u001b[39;00m \u001b[38;5;129;01mnot\u001b[39;00m \u001b[38;5;28;01mNone\u001b[39;00m \u001b[38;5;129;01mand\u001b[39;00m out\u001b[38;5;241m.\u001b[39mdtype \u001b[38;5;241m!=\u001b[39m \u001b[38;5;124m\"\u001b[39m\u001b[38;5;124mboolean\u001b[39m\u001b[38;5;124m\"\u001b[39m:\n",
      "File \u001b[1;32mC:\\ProgramData\\anaconda3\\Lib\\site-packages\\pandas\\core\\internals\\managers.py:1500\u001b[0m, in \u001b[0;36mBlockManager.reduce\u001b[1;34m(self, func)\u001b[0m\n\u001b[0;32m   1498\u001b[0m res_blocks: \u001b[38;5;28mlist\u001b[39m[Block] \u001b[38;5;241m=\u001b[39m []\n\u001b[0;32m   1499\u001b[0m \u001b[38;5;28;01mfor\u001b[39;00m blk \u001b[38;5;129;01min\u001b[39;00m \u001b[38;5;28mself\u001b[39m\u001b[38;5;241m.\u001b[39mblocks:\n\u001b[1;32m-> 1500\u001b[0m     nbs \u001b[38;5;241m=\u001b[39m blk\u001b[38;5;241m.\u001b[39mreduce(func)\n\u001b[0;32m   1501\u001b[0m     res_blocks\u001b[38;5;241m.\u001b[39mextend(nbs)\n\u001b[0;32m   1503\u001b[0m index \u001b[38;5;241m=\u001b[39m Index([\u001b[38;5;28;01mNone\u001b[39;00m])  \u001b[38;5;66;03m# placeholder\u001b[39;00m\n",
      "File \u001b[1;32mC:\\ProgramData\\anaconda3\\Lib\\site-packages\\pandas\\core\\internals\\blocks.py:404\u001b[0m, in \u001b[0;36mBlock.reduce\u001b[1;34m(self, func)\u001b[0m\n\u001b[0;32m    398\u001b[0m \u001b[38;5;129m@final\u001b[39m\n\u001b[0;32m    399\u001b[0m \u001b[38;5;28;01mdef\u001b[39;00m \u001b[38;5;21mreduce\u001b[39m(\u001b[38;5;28mself\u001b[39m, func) \u001b[38;5;241m-\u001b[39m\u001b[38;5;241m>\u001b[39m \u001b[38;5;28mlist\u001b[39m[Block]:\n\u001b[0;32m    400\u001b[0m     \u001b[38;5;66;03m# We will apply the function and reshape the result into a single-row\u001b[39;00m\n\u001b[0;32m    401\u001b[0m     \u001b[38;5;66;03m#  Block with the same mgr_locs; squeezing will be done at a higher level\u001b[39;00m\n\u001b[0;32m    402\u001b[0m     \u001b[38;5;28;01massert\u001b[39;00m \u001b[38;5;28mself\u001b[39m\u001b[38;5;241m.\u001b[39mndim \u001b[38;5;241m==\u001b[39m \u001b[38;5;241m2\u001b[39m\n\u001b[1;32m--> 404\u001b[0m     result \u001b[38;5;241m=\u001b[39m func(\u001b[38;5;28mself\u001b[39m\u001b[38;5;241m.\u001b[39mvalues)\n\u001b[0;32m    406\u001b[0m     \u001b[38;5;28;01mif\u001b[39;00m \u001b[38;5;28mself\u001b[39m\u001b[38;5;241m.\u001b[39mvalues\u001b[38;5;241m.\u001b[39mndim \u001b[38;5;241m==\u001b[39m \u001b[38;5;241m1\u001b[39m:\n\u001b[0;32m    407\u001b[0m         res_values \u001b[38;5;241m=\u001b[39m result\n",
      "File \u001b[1;32mC:\\ProgramData\\anaconda3\\Lib\\site-packages\\pandas\\core\\frame.py:11481\u001b[0m, in \u001b[0;36mDataFrame._reduce.<locals>.blk_func\u001b[1;34m(values, axis)\u001b[0m\n\u001b[0;32m  11479\u001b[0m         \u001b[38;5;28;01mreturn\u001b[39;00m np\u001b[38;5;241m.\u001b[39marray([result])\n\u001b[0;32m  11480\u001b[0m \u001b[38;5;28;01melse\u001b[39;00m:\n\u001b[1;32m> 11481\u001b[0m     \u001b[38;5;28;01mreturn\u001b[39;00m op(values, axis\u001b[38;5;241m=\u001b[39maxis, skipna\u001b[38;5;241m=\u001b[39mskipna, \u001b[38;5;241m*\u001b[39m\u001b[38;5;241m*\u001b[39mkwds)\n",
      "File \u001b[1;32mC:\\ProgramData\\anaconda3\\Lib\\site-packages\\pandas\\core\\nanops.py:147\u001b[0m, in \u001b[0;36mbottleneck_switch.__call__.<locals>.f\u001b[1;34m(values, axis, skipna, **kwds)\u001b[0m\n\u001b[0;32m    145\u001b[0m         result \u001b[38;5;241m=\u001b[39m alt(values, axis\u001b[38;5;241m=\u001b[39maxis, skipna\u001b[38;5;241m=\u001b[39mskipna, \u001b[38;5;241m*\u001b[39m\u001b[38;5;241m*\u001b[39mkwds)\n\u001b[0;32m    146\u001b[0m \u001b[38;5;28;01melse\u001b[39;00m:\n\u001b[1;32m--> 147\u001b[0m     result \u001b[38;5;241m=\u001b[39m alt(values, axis\u001b[38;5;241m=\u001b[39maxis, skipna\u001b[38;5;241m=\u001b[39mskipna, \u001b[38;5;241m*\u001b[39m\u001b[38;5;241m*\u001b[39mkwds)\n\u001b[0;32m    149\u001b[0m \u001b[38;5;28;01mreturn\u001b[39;00m result\n",
      "File \u001b[1;32mC:\\ProgramData\\anaconda3\\Lib\\site-packages\\pandas\\core\\nanops.py:404\u001b[0m, in \u001b[0;36m_datetimelike_compat.<locals>.new_func\u001b[1;34m(values, axis, skipna, mask, **kwargs)\u001b[0m\n\u001b[0;32m    401\u001b[0m \u001b[38;5;28;01mif\u001b[39;00m datetimelike \u001b[38;5;129;01mand\u001b[39;00m mask \u001b[38;5;129;01mis\u001b[39;00m \u001b[38;5;28;01mNone\u001b[39;00m:\n\u001b[0;32m    402\u001b[0m     mask \u001b[38;5;241m=\u001b[39m isna(values)\n\u001b[1;32m--> 404\u001b[0m result \u001b[38;5;241m=\u001b[39m func(values, axis\u001b[38;5;241m=\u001b[39maxis, skipna\u001b[38;5;241m=\u001b[39mskipna, mask\u001b[38;5;241m=\u001b[39mmask, \u001b[38;5;241m*\u001b[39m\u001b[38;5;241m*\u001b[39mkwargs)\n\u001b[0;32m    406\u001b[0m \u001b[38;5;28;01mif\u001b[39;00m datetimelike:\n\u001b[0;32m    407\u001b[0m     result \u001b[38;5;241m=\u001b[39m _wrap_results(result, orig_values\u001b[38;5;241m.\u001b[39mdtype, fill_value\u001b[38;5;241m=\u001b[39miNaT)\n",
      "File \u001b[1;32mC:\\ProgramData\\anaconda3\\Lib\\site-packages\\pandas\\core\\nanops.py:719\u001b[0m, in \u001b[0;36mnanmean\u001b[1;34m(values, axis, skipna, mask)\u001b[0m\n\u001b[0;32m    716\u001b[0m     dtype_count \u001b[38;5;241m=\u001b[39m dtype\n\u001b[0;32m    718\u001b[0m count \u001b[38;5;241m=\u001b[39m _get_counts(values\u001b[38;5;241m.\u001b[39mshape, mask, axis, dtype\u001b[38;5;241m=\u001b[39mdtype_count)\n\u001b[1;32m--> 719\u001b[0m the_sum \u001b[38;5;241m=\u001b[39m values\u001b[38;5;241m.\u001b[39msum(axis, dtype\u001b[38;5;241m=\u001b[39mdtype_sum)\n\u001b[0;32m    720\u001b[0m the_sum \u001b[38;5;241m=\u001b[39m _ensure_numeric(the_sum)\n\u001b[0;32m    722\u001b[0m \u001b[38;5;28;01mif\u001b[39;00m axis \u001b[38;5;129;01mis\u001b[39;00m \u001b[38;5;129;01mnot\u001b[39;00m \u001b[38;5;28;01mNone\u001b[39;00m \u001b[38;5;129;01mand\u001b[39;00m \u001b[38;5;28mgetattr\u001b[39m(the_sum, \u001b[38;5;124m\"\u001b[39m\u001b[38;5;124mndim\u001b[39m\u001b[38;5;124m\"\u001b[39m, \u001b[38;5;28;01mFalse\u001b[39;00m):\n",
      "File \u001b[1;32mC:\\ProgramData\\anaconda3\\Lib\\site-packages\\numpy\\core\\_methods.py:49\u001b[0m, in \u001b[0;36m_sum\u001b[1;34m(a, axis, dtype, out, keepdims, initial, where)\u001b[0m\n\u001b[0;32m     47\u001b[0m \u001b[38;5;28;01mdef\u001b[39;00m \u001b[38;5;21m_sum\u001b[39m(a, axis\u001b[38;5;241m=\u001b[39m\u001b[38;5;28;01mNone\u001b[39;00m, dtype\u001b[38;5;241m=\u001b[39m\u001b[38;5;28;01mNone\u001b[39;00m, out\u001b[38;5;241m=\u001b[39m\u001b[38;5;28;01mNone\u001b[39;00m, keepdims\u001b[38;5;241m=\u001b[39m\u001b[38;5;28;01mFalse\u001b[39;00m,\n\u001b[0;32m     48\u001b[0m          initial\u001b[38;5;241m=\u001b[39m_NoValue, where\u001b[38;5;241m=\u001b[39m\u001b[38;5;28;01mTrue\u001b[39;00m):\n\u001b[1;32m---> 49\u001b[0m     \u001b[38;5;28;01mreturn\u001b[39;00m umr_sum(a, axis, dtype, out, keepdims, initial, where)\n",
      "\u001b[1;31mTypeError\u001b[0m: can only concatenate str (not \"int\") to str"
     ]
    }
   ],
   "source": [
    "data.fillna(data.mean(),inplace=True) #if we have numerical dataframe in our dataset"
   ]
  },
  {
   "cell_type": "markdown",
   "metadata": {},
   "source": [
    "# lets drop gender dataframe missing rows"
   ]
  },
  {
   "cell_type": "code",
   "execution_count": 21,
   "metadata": {},
   "outputs": [],
   "source": [
    "data.dropna(subset=[\"Gender\"],axis=0,inplace=True)"
   ]
  },
  {
   "cell_type": "code",
   "execution_count": 23,
   "metadata": {},
   "outputs": [
    {
     "name": "stderr",
     "output_type": "stream",
     "text": [
      "C:\\Users\\A I TECH\\AppData\\Local\\Temp\\ipykernel_1100\\2998504357.py:1: FutureWarning: A value is trying to be set on a copy of a DataFrame or Series through chained assignment using an inplace method.\n",
      "The behavior will change in pandas 3.0. This inplace method will never work because the intermediate object on which we are setting values always behaves as a copy.\n",
      "\n",
      "For example, when doing 'df[col].method(value, inplace=True)', try using 'df.method({col: value}, inplace=True)' or df[col] = df[col].method(value) instead, to perform the operation inplace on the original object.\n",
      "\n",
      "\n",
      "  data['EverBenched'].fillna(data['EverBenched'].mode()[0], inplace=True)\n"
     ]
    }
   ],
   "source": [
    "data['EverBenched'].fillna(data['EverBenched'].mode()[0], inplace=True)"
   ]
  },
  {
   "cell_type": "markdown",
   "metadata": {},
   "source": [
    "# Drop Duplicates"
   ]
  },
  {
   "cell_type": "code",
   "execution_count": 26,
   "metadata": {},
   "outputs": [],
   "source": [
    "data.drop_duplicates(inplace=True)  # Drop duplicate rows based on all columns"
   ]
  },
  {
   "cell_type": "markdown",
   "metadata": {},
   "source": [
    "# lets deals with negative values"
   ]
  },
  {
   "cell_type": "code",
   "execution_count": 27,
   "metadata": {},
   "outputs": [],
   "source": [
    "data[\"Age\"]=np.where(data[\"Age\"]<0,data[\"Age\"].mean(),data[\"Age\"])"
   ]
  },
  {
   "cell_type": "markdown",
   "metadata": {},
   "source": [
    "# lets save cleaned data set"
   ]
  },
  {
   "cell_type": "code",
   "execution_count": 28,
   "metadata": {},
   "outputs": [
    {
     "name": "stdout",
     "output_type": "stream",
     "text": [
      "Cleaned data and saved successfuly!\n"
     ]
    }
   ],
   "source": [
    "data.to_csv(\"cleaned.csv\",index=False)\n",
    "print(\"Cleaned data and saved successfuly!\")"
   ]
  },
  {
   "cell_type": "code",
   "execution_count": null,
   "metadata": {},
   "outputs": [],
   "source": []
  },
  {
   "cell_type": "code",
   "execution_count": null,
   "metadata": {},
   "outputs": [],
   "source": []
  },
  {
   "cell_type": "code",
   "execution_count": null,
   "metadata": {},
   "outputs": [],
   "source": []
  }
 ],
 "metadata": {
  "colab": {
   "provenance": []
  },
  "kernelspec": {
   "display_name": "Python [conda env:base] *",
   "language": "python",
   "name": "conda-base-py"
  },
  "language_info": {
   "codemirror_mode": {
    "name": "ipython",
    "version": 3
   },
   "file_extension": ".py",
   "mimetype": "text/x-python",
   "name": "python",
   "nbconvert_exporter": "python",
   "pygments_lexer": "ipython3",
   "version": "3.12.7"
  }
 },
 "nbformat": 4,
 "nbformat_minor": 4
}
